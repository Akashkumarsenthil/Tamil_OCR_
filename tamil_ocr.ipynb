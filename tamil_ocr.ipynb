{
  "nbformat": 4,
  "nbformat_minor": 0,
  "metadata": {
    "colab": {
      "provenance": []
    },
    "kernelspec": {
      "name": "python3",
      "display_name": "Python 3"
    }
  },
  "cells": [
    {
      "cell_type": "code",
      "metadata": {
        "id": "7fgkfDcshLYE",
        "colab": {
          "base_uri": "https://localhost:8080/"
        },
        "outputId": "5108bac3-2750-4841-af88-21713b12444e"
      },
      "source": [
        "!unzip TDNMax_zip.zip"
      ],
      "execution_count": null,
      "outputs": [
        {
          "output_type": "stream",
          "text": [
            "unzip:  cannot find or open TDNMax_zip.zip, TDNMax_zip.zip.zip or TDNMax_zip.zip.ZIP.\n"
          ],
          "name": "stdout"
        }
      ]
    },
    {
      "cell_type": "code",
      "metadata": {
        "id": "soiRj-x0Lptd",
        "colab": {
          "base_uri": "https://localhost:8080/",
          "height": 49
        },
        "outputId": "3c44651b-214f-4965-ef15-71eb1c761543"
      },
      "source": [
        "import tensorflow as tf\n",
        "from tensorflow import keras\n",
        "# from keras.optimizers import SGD\n",
        "from keras.optimizers import Adam\n",
        "from keras.models import Sequential\n",
        "from keras.layers import Conv2D\n",
        "from keras.layers import MaxPooling2D\n",
        "from keras.layers import Flatten\n",
        "from keras.layers import Dense\n",
        "\n",
        "\n",
        "# Helper libraries\n",
        "import numpy as np\n",
        "import matplotlib.pyplot as plt\n",
        "\n",
        "print(tf.__version__)"
      ],
      "execution_count": null,
      "outputs": [
        {
          "output_type": "stream",
          "text": [
            "2.2.0\n"
          ],
          "name": "stdout"
        },
        {
          "output_type": "stream",
          "text": [
            "Using TensorFlow backend.\n"
          ],
          "name": "stderr"
        }
      ]
    },
    {
      "cell_type": "code",
      "metadata": {
        "id": "LctmQhMeOoQg",
        "colab": {
          "base_uri": "https://localhost:8080/",
          "height": 32
        },
        "outputId": "1e413696-fa48-4e80-daf9-1aad99cd6405"
      },
      "source": [
        "import os, os.path\n",
        "# print len([name for name in os.listdir('.') if os.path.isfile(name)])\n",
        "\n",
        "# path joining version for other paths\n",
        "DIR = '/content/TDNMax_zip/'\n",
        "print(len([name for name in os.listdir(DIR) if os.path.isfile(os.path.join(DIR, name))]))"
      ],
      "execution_count": null,
      "outputs": [
        {
          "output_type": "stream",
          "text": [
            "10386\n"
          ],
          "name": "stdout"
        }
      ]
    },
    {
      "cell_type": "code",
      "metadata": {
        "id": "q9T4FAb1iCwS"
      },
      "source": [
        "import math\n",
        "import numpy as np\n",
        "import h5py\n",
        "import matplotlib.pyplot as plt\n",
        "import scipy\n",
        "from sklearn.model_selection import train_test_split\n",
        "from sklearn.preprocessing import LabelBinarizer, LabelEncoder\n",
        "import cv2"
      ],
      "execution_count": null,
      "outputs": []
    },
    {
      "cell_type": "code",
      "metadata": {
        "id": "1VpH_IFGtFSm"
      },
      "source": [
        "import glob\n",
        "images = []\n",
        "labels = []\n",
        "DATADIR = \"/content\"\n",
        "CATEGORIES = [\"TDNMax_zip\"]\n",
        "image_paths = glob.glob(\"TDNMax_zip/*.jpg\")\n",
        "for image_path in image_paths:\n",
        "    img=cv2.imread(image_path,0)\n",
        "    res=cv2.resize(img,(32,32))\n",
        "    label = image_path.split(\".\")[0].split(\"/\")[1].split(\" \")[0]\n",
        "\n",
        "    # add the current image and label to the lists\n",
        "    images.append(res)\n",
        "    labels.append(label)"
      ],
      "execution_count": null,
      "outputs": []
    },
    {
      "cell_type": "code",
      "metadata": {
        "id": "CzJCPljaiBFY"
      },
      "source": [
        "images=np.array(images)\n",
        "labels=np.array(labels)"
      ],
      "execution_count": null,
      "outputs": []
    },
    {
      "cell_type": "code",
      "metadata": {
        "id": "eOknyxsygxDv",
        "colab": {
          "base_uri": "https://localhost:8080/",
          "height": 32
        },
        "outputId": "7816573a-8d25-467b-eaaa-6fa4f402f4df"
      },
      "source": [
        "images.shape"
      ],
      "execution_count": null,
      "outputs": [
        {
          "output_type": "execute_result",
          "data": {
            "text/plain": [
              "(10386, 32, 32)"
            ]
          },
          "metadata": {
            "tags": []
          },
          "execution_count": 13
        }
      ]
    },
    {
      "cell_type": "code",
      "metadata": {
        "id": "nXFMphxsi3bQ"
      },
      "source": [
        "lb = LabelEncoder()\n",
        "labels_new = lb.fit_transform(labels)\n",
        "from keras.utils.np_utils import to_categorical\n",
        "labels_new=to_categorical(labels_new,108)"
      ],
      "execution_count": null,
      "outputs": []
    },
    {
      "cell_type": "code",
      "metadata": {
        "id": "-0SArs1Hi6KK"
      },
      "source": [
        "np.save('/content/labels.npy',labels_new)"
      ],
      "execution_count": null,
      "outputs": []
    },
    {
      "cell_type": "code",
      "metadata": {
        "id": "x-tk3n7gjqNh",
        "colab": {
          "base_uri": "https://localhost:8080/",
          "height": 32
        },
        "outputId": "44ddcfaf-8b02-4937-9417-7f311d98c26b"
      },
      "source": [
        "# print(len(labels))\n",
        "# labels_new[0]\n",
        "images.shape"
      ],
      "execution_count": null,
      "outputs": [
        {
          "output_type": "execute_result",
          "data": {
            "text/plain": [
              "(10386, 32, 32)"
            ]
          },
          "metadata": {
            "tags": []
          },
          "execution_count": 16
        }
      ]
    },
    {
      "cell_type": "code",
      "metadata": {
        "id": "J8ddJCBwerNU"
      },
      "source": [
        "img_height_rows = 32\n",
        "img_width_cols = 32\n"
      ],
      "execution_count": null,
      "outputs": []
    },
    {
      "cell_type": "code",
      "metadata": {
        "id": "TNiIrsV9e4qJ"
      },
      "source": [
        "im_shape = (img_height_rows, img_width_cols, 1)"
      ],
      "execution_count": null,
      "outputs": []
    },
    {
      "cell_type": "code",
      "metadata": {
        "id": "mdifauaCe7Fd"
      },
      "source": [
        "X_train, X_test, y_train, y_test = train_test_split(images, labels_new, test_size=0.33, random_state=42)"
      ],
      "execution_count": null,
      "outputs": []
    },
    {
      "cell_type": "code",
      "metadata": {
        "id": "x0AevvjEfCZ2"
      },
      "source": [
        "X_train = X_train.reshape(X_train.shape[0], *im_shape) # Python TIP :the * operator unpacks the tuple\n",
        "X_test = X_test.reshape(X_test.shape[0], *im_shape)"
      ],
      "execution_count": null,
      "outputs": []
    },
    {
      "cell_type": "code",
      "metadata": {
        "id": "NfRy9eSxfFiC",
        "colab": {
          "base_uri": "https://localhost:8080/",
          "height": 32
        },
        "outputId": "efe3c3e6-affc-40fc-bd89-050674fd824b"
      },
      "source": [
        "X_train.shape"
      ],
      "execution_count": null,
      "outputs": [
        {
          "output_type": "execute_result",
          "data": {
            "text/plain": [
              "(6958, 32, 32, 1)"
            ]
          },
          "metadata": {
            "tags": []
          },
          "execution_count": 21
        }
      ]
    },
    {
      "cell_type": "code",
      "metadata": {
        "id": "sNqNBUtMhUhO"
      },
      "source": [
        "cnn = Sequential()\n",
        "kernelSize = (3, 3)\n",
        "ip_activation = 'relu'\n",
        "# ip_conv_0 = Conv2D(filters=32, kernel_size=kernelSize, input_shape=im_shape, activation=ip_activation)\n",
        "# cnn.add(ip_conv_0)\n",
        "ip_conv_0_1 = Conv2D(filters=64, kernel_size=kernelSize, activation=ip_activation)\n",
        "cnn.add(ip_conv_0_1)\n",
        "\n",
        "# Add the Pooling layer\n",
        "pool_0 = MaxPooling2D(pool_size=(2, 2), strides=(2, 2), padding=\"same\")\n",
        "cnn.add(pool_0)\n",
        "\n",
        "ip_conv_1 = Conv2D(filters=64, kernel_size=kernelSize, activation=ip_activation)\n",
        "cnn.add(ip_conv_1)\n",
        "# ip_conv_1_1 = Conv2D(filters=64, kernel_size=kernelSize, activation=ip_activation)\n",
        "# cnn.add(ip_conv_1_1)\n",
        "\n",
        "pool_1 = MaxPooling2D(pool_size=(2, 2), strides=(2, 2), padding=\"same\")\n",
        "cnn.add(pool_1)\n",
        "\n",
        "\n",
        "# Let's deactivate around 20% of neurons randomly for training\n",
        "# drop_layer_0 = Dropout(0.2)\n",
        "# cnn.add(drop_layer_0)\n",
        "\n",
        "flat_layer_0 = Flatten()\n",
        "cnn.add(Flatten())\n",
        "\n",
        "h_dense_0 = Dense(units=128, activation=ip_activation, kernel_initializer='uniform')\n",
        "cnn.add(h_dense_0)\n",
        "# Let's add one more before proceeding to the output layer\n",
        "h_dense_1 = Dense(units=64, activation=ip_activation, kernel_initializer='uniform')\n",
        "cnn.add(h_dense_1)\n",
        "\n",
        "\n",
        "op_activation = 'softmax'\n",
        "output_layer = Dense(units=108, activation=op_activation, kernel_initializer='uniform')\n",
        "cnn.add(output_layer)\n",
        "\n",
        "\n",
        "opt = 'adam'\n",
        "loss = 'categorical_crossentropy'\n",
        "metrics = ['accuracy']\n",
        "# Compile the classifier using the configuration we want\n",
        "cnn.compile(optimizer=opt, loss=loss, metrics=metrics)"
      ],
      "execution_count": null,
      "outputs": []
    },
    {
      "cell_type": "code",
      "metadata": {
        "id": "5yYnSc_Jh5ir",
        "colab": {
          "base_uri": "https://localhost:8080/",
          "height": 675
        },
        "outputId": "eca87dae-1db4-4ec1-e406-5b0f3de7cad0"
      },
      "source": [
        "history = cnn.fit(X_train, y_train,\n",
        "                  batch_size=32, epochs=20)"
      ],
      "execution_count": null,
      "outputs": [
        {
          "output_type": "stream",
          "text": [
            "Epoch 1/20\n",
            "6958/6958 [==============================] - 15s 2ms/step - loss: 3.3541 - accuracy: 0.2101\n",
            "Epoch 2/20\n",
            "6958/6958 [==============================] - 14s 2ms/step - loss: 0.8644 - accuracy: 0.7246\n",
            "Epoch 3/20\n",
            "6958/6958 [==============================] - 14s 2ms/step - loss: 0.4202 - accuracy: 0.8671\n",
            "Epoch 4/20\n",
            "6958/6958 [==============================] - 14s 2ms/step - loss: 0.2647 - accuracy: 0.9103\n",
            "Epoch 5/20\n",
            "6958/6958 [==============================] - 14s 2ms/step - loss: 0.2062 - accuracy: 0.9333\n",
            "Epoch 6/20\n",
            "6958/6958 [==============================] - 15s 2ms/step - loss: 0.1626 - accuracy: 0.9493\n",
            "Epoch 7/20\n",
            "6958/6958 [==============================] - 14s 2ms/step - loss: 0.1419 - accuracy: 0.9521\n",
            "Epoch 8/20\n",
            "6958/6958 [==============================] - 14s 2ms/step - loss: 0.1280 - accuracy: 0.9588\n",
            "Epoch 9/20\n",
            "6958/6958 [==============================] - 14s 2ms/step - loss: 0.0810 - accuracy: 0.9760\n",
            "Epoch 10/20\n",
            "6958/6958 [==============================] - 14s 2ms/step - loss: 0.1134 - accuracy: 0.9654\n",
            "Epoch 11/20\n",
            "6958/6958 [==============================] - 14s 2ms/step - loss: 0.1041 - accuracy: 0.9681\n",
            "Epoch 12/20\n",
            "6958/6958 [==============================] - 14s 2ms/step - loss: 0.0781 - accuracy: 0.9769\n",
            "Epoch 13/20\n",
            "6958/6958 [==============================] - 14s 2ms/step - loss: 0.0993 - accuracy: 0.9703\n",
            "Epoch 14/20\n",
            "6958/6958 [==============================] - 14s 2ms/step - loss: 0.1036 - accuracy: 0.9680\n",
            "Epoch 15/20\n",
            "6958/6958 [==============================] - 14s 2ms/step - loss: 0.0805 - accuracy: 0.9759\n",
            "Epoch 16/20\n",
            "6958/6958 [==============================] - 14s 2ms/step - loss: 0.0679 - accuracy: 0.9799\n",
            "Epoch 17/20\n",
            "6958/6958 [==============================] - 14s 2ms/step - loss: 0.1038 - accuracy: 0.9680\n",
            "Epoch 18/20\n",
            "6958/6958 [==============================] - 14s 2ms/step - loss: 0.0718 - accuracy: 0.9783\n",
            "Epoch 19/20\n",
            "6958/6958 [==============================] - 14s 2ms/step - loss: 0.0482 - accuracy: 0.9833\n",
            "Epoch 20/20\n",
            "6958/6958 [==============================] - 14s 2ms/step - loss: 0.0315 - accuracy: 0.9899\n"
          ],
          "name": "stdout"
        }
      ]
    },
    {
      "cell_type": "code",
      "metadata": {
        "id": "Q2hC_QdeDMhj",
        "colab": {
          "base_uri": "https://localhost:8080/",
          "height": 32
        },
        "outputId": "db930ae4-d91e-4bb4-cd5a-e8360a01facd"
      },
      "source": [
        "score,acc=cnn.evaluate(X_test,y_test)"
      ],
      "execution_count": null,
      "outputs": [
        {
          "output_type": "stream",
          "text": [
            "3428/3428 [==============================] - 2s 514us/step\n"
          ],
          "name": "stdout"
        }
      ]
    },
    {
      "cell_type": "code",
      "metadata": {
        "id": "V070sn4MEZnd",
        "colab": {
          "base_uri": "https://localhost:8080/",
          "height": 32
        },
        "outputId": "87a1c77d-cc7b-4128-c893-9a94bb233b81"
      },
      "source": [
        "print(\"Test score: \",score)"
      ],
      "execution_count": null,
      "outputs": [
        {
          "output_type": "stream",
          "text": [
            "Test score:  0.4313131020107723\n"
          ],
          "name": "stdout"
        }
      ]
    },
    {
      "cell_type": "code",
      "metadata": {
        "id": "C742vALpEgOO",
        "colab": {
          "base_uri": "https://localhost:8080/",
          "height": 32
        },
        "outputId": "a5c2c523-f2a0-4bee-c537-11f824e28954"
      },
      "source": [
        "print(\"Test acc: \",acc)"
      ],
      "execution_count": null,
      "outputs": [
        {
          "output_type": "stream",
          "text": [
            "Test acc:  0.9081096649169922\n"
          ],
          "name": "stdout"
        }
      ]
    },
    {
      "cell_type": "code",
      "metadata": {
        "id": "t9lCh5vIEjk8",
        "colab": {
          "base_uri": "https://localhost:8080/",
          "height": 411
        },
        "outputId": "19347fd5-6fb8-4f2d-e8cc-c0975af51abb"
      },
      "source": [
        "cnn.summary()"
      ],
      "execution_count": null,
      "outputs": [
        {
          "output_type": "stream",
          "text": [
            "Model: \"sequential_1\"\n",
            "_________________________________________________________________\n",
            "Layer (type)                 Output Shape              Param #   \n",
            "=================================================================\n",
            "conv2d_1 (Conv2D)            (None, 30, 30, 64)        640       \n",
            "_________________________________________________________________\n",
            "max_pooling2d_1 (MaxPooling2 (None, 15, 15, 64)        0         \n",
            "_________________________________________________________________\n",
            "conv2d_2 (Conv2D)            (None, 13, 13, 64)        36928     \n",
            "_________________________________________________________________\n",
            "max_pooling2d_2 (MaxPooling2 (None, 7, 7, 64)          0         \n",
            "_________________________________________________________________\n",
            "flatten_2 (Flatten)          (None, 3136)              0         \n",
            "_________________________________________________________________\n",
            "dense_1 (Dense)              (None, 128)               401536    \n",
            "_________________________________________________________________\n",
            "dense_2 (Dense)              (None, 64)                8256      \n",
            "_________________________________________________________________\n",
            "dense_3 (Dense)              (None, 108)               7020      \n",
            "=================================================================\n",
            "Total params: 454,380\n",
            "Trainable params: 454,380\n",
            "Non-trainable params: 0\n",
            "_________________________________________________________________\n"
          ],
          "name": "stdout"
        }
      ]
    },
    {
      "cell_type": "code",
      "metadata": {
        "id": "we6HcTUtE2Gc",
        "colab": {
          "base_uri": "https://localhost:8080/",
          "height": 32
        },
        "outputId": "8e08d2c7-c40a-4083-b5c6-98b3abf5d58c"
      },
      "source": [
        "images.shape"
      ],
      "execution_count": null,
      "outputs": [
        {
          "output_type": "execute_result",
          "data": {
            "text/plain": [
              "(10386, 32, 32)"
            ]
          },
          "metadata": {
            "tags": []
          },
          "execution_count": 30
        }
      ]
    },
    {
      "cell_type": "code",
      "metadata": {
        "id": "Ui8MkhYcbWvw",
        "colab": {
          "base_uri": "https://localhost:8080/",
          "height": 281
        },
        "outputId": "38cadc1e-8b87-4894-f646-005b889be736"
      },
      "source": [
        "plt.imshow(images[14],cmap=\"gray\")"
      ],
      "execution_count": null,
      "outputs": [
        {
          "output_type": "execute_result",
          "data": {
            "text/plain": [
              "<matplotlib.image.AxesImage at 0x7fc892f534a8>"
            ]
          },
          "metadata": {
            "tags": []
          },
          "execution_count": 50
        },
        {
          "output_type": "display_data",
          "data": {
            "image/png": "[encoded data removed]",
            "text/plain": [
              "<Figure size 432x288 with 1 Axes>"
            ]
          },
          "metadata": {
            "tags": [],
            "needs_background": "light"
          }
        }
      ]
    },
    {
      "cell_type": "code",
      "metadata": {
        "id": "dW6auT2IbCvS",
        "colab": {
          "base_uri": "https://localhost:8080/",
          "height": 32
        },
        "outputId": "9327e09c-71bd-4295-fe17-b4edab36d685"
      },
      "source": [
        "np.argmax(cnn.predict(np.expand_dims(images[14],axis=(0,-1))))"
      ],
      "execution_count": null,
      "outputs": [
        {
          "output_type": "execute_result",
          "data": {
            "text/plain": [
              "105"
            ]
          },
          "metadata": {
            "tags": []
          },
          "execution_count": 51
        }
      ]
    },
    {
      "cell_type": "code",
      "metadata": {
        "id": "rBpQNKBMdYsj"
      },
      "source": [],
      "execution_count": null,
      "outputs": []
    }
  ]
}